{
 "cells": [
  {
   "cell_type": "code",
   "execution_count": 1,
   "id": "ad67d1b1",
   "metadata": {},
   "outputs": [],
   "source": [
    "import pandas as pd\n",
    "import numpy as np\n",
    "import seaborn as sns\n",
    "import os\n",
    "import matplotlib.pyplot as plt\n",
    "\n",
    "\n",
    "# TODO: \n",
    "# Find out how to plot each of the AdTypes by Impressions vs Week and have it sum to total impressions \n",
    "\n"
   ]
  },
  {
   "cell_type": "code",
   "execution_count": 2,
   "id": "9f63bfeb",
   "metadata": {
    "scrolled": false
   },
   "outputs": [
    {
     "name": "stderr",
     "output_type": "stream",
     "text": [
      "/tmp/ipykernel_252/1006815241.py:5: FutureWarning: weekofyear and week have been deprecated, please use DatetimeIndex.isocalendar().week instead, which returns a Series. To exactly reproduce the behavior of week and weekofyear and return an Index, you may call pd.Int64Index(idx.isocalendar().week)\n",
      "  df['Num_Week'] = pd.DatetimeIndex(df['Week']).weekofyear\n"
     ]
    }
   ],
   "source": [
    "# Cleaning\n",
    "df = pd.read_csv(\"dataset/Advertising.csv\", low_memory = False, usecols = lambda c: not c.startswith(\"Unnamed:\"), parse_dates = ['Week'])\n",
    "df['Year'] = pd.DatetimeIndex(df['Week']).year\n",
    "df['Month'] = pd.DatetimeIndex(df['Week']).month\n",
    "df['Num_Week'] = pd.DatetimeIndex(df['Week']).weekofyear\n",
    "\n",
    "# num_week gives warning but im not sure what it means yet to be honest"
   ]
  },
  {
   "cell_type": "code",
   "execution_count": 23,
   "id": "12198e7b",
   "metadata": {
    "scrolled": true
   },
   "outputs": [
    {
     "name": "stdout",
     "output_type": "stream",
     "text": [
      "['Month' 'Instance' 'instance']\n",
      "423\n",
      "404\n",
      "51\n",
      "1\n"
     ]
    }
   ],
   "source": [
    "# Emails in 2017\n",
    "\n",
    "df_2017e = df.loc[(df['Year'] == 2017) & (df['AdType'] == \"Email\")]\n",
    "print(df_2017e['BuyingBasis'].unique())\n",
    "print(df_2017e.shape[0])\n",
    "df_2017e = df_2017e.loc[df_2017e['BuyingBasis'] == 'Instance']\n",
    "print(df_2017e.shape[0])\n",
    "\n",
    "\n",
    "#df_2017e\n",
    "print(df_2017e['Num_Week'].max())\n",
    "print(df_2017e['Num_Week'].min())\n",
    "\n",
    "\n",
    "#df_2017e.sort_values('Num_Week')"
   ]
  },
  {
   "cell_type": "code",
   "execution_count": null,
   "id": "b2e3205d",
   "metadata": {},
   "outputs": [],
   "source": []
  }
 ],
 "metadata": {
  "kernelspec": {
   "display_name": "Python 3 (ipykernel)",
   "language": "python",
   "name": "python3"
  },
  "language_info": {
   "codemirror_mode": {
    "name": "ipython",
    "version": 3
   },
   "file_extension": ".py",
   "mimetype": "text/x-python",
   "name": "python",
   "nbconvert_exporter": "python",
   "pygments_lexer": "ipython3",
   "version": "3.8.10"
  }
 },
 "nbformat": 4,
 "nbformat_minor": 5
}
