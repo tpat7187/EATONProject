{
 "cells": [
  {
   "cell_type": "code",
   "execution_count": 153,
   "id": "e9aa44ef",
   "metadata": {},
   "outputs": [],
   "source": [
    "# some notes\n",
    "\n",
    "# monthly buying basis still has WEEKLY entries in COST\n",
    "# Impression -> Open -> Click [For EMAILS]"
   ]
  },
  {
   "cell_type": "code",
   "execution_count": 223,
   "id": "b497cd57",
   "metadata": {},
   "outputs": [],
   "source": [
    "import pandas as pd\n",
    "import numpy as np\n",
    "import seaborn as sns\n",
    "import os\n",
    "import matplotlib.pyplot as plt\n",
    "\n",
    "pd.set_option('display.max_rows', None)\n",
    "\n",
    "\n",
    "# TODO: \n",
    "# Find out how to plot each of the AdTypes by Impressions vs Week and have it sum to total impressions "
   ]
  },
  {
   "cell_type": "code",
   "execution_count": 224,
   "id": "9ea91fc5",
   "metadata": {
    "scrolled": false
   },
   "outputs": [
    {
     "name": "stdout",
     "output_type": "stream",
     "text": [
      "Week           0\n",
      "Impressions    0\n",
      "Clicks         0\n",
      "Engagement     0\n",
      "Opens          0\n",
      "Leads          0\n",
      "Segment        0\n",
      "Season         0\n",
      "CountryISO     0\n",
      "CountryName    0\n",
      "Region         0\n",
      "SubRegion      0\n",
      "Publication    0\n",
      "AdType         0\n",
      "Treatment      0\n",
      "BuyingBasis    0\n",
      "Cost           0\n",
      "Year           0\n",
      "Month          0\n",
      "Num_Week       0\n",
      "dtype: int64\n"
     ]
    },
    {
     "name": "stderr",
     "output_type": "stream",
     "text": [
      "/tmp/ipykernel_252/2473983206.py:5: FutureWarning: weekofyear and week have been deprecated, please use DatetimeIndex.isocalendar().week instead, which returns a Series. To exactly reproduce the behavior of week and weekofyear and return an Index, you may call pd.Int64Index(idx.isocalendar().week)\n",
      "  df['Num_Week'] = pd.DatetimeIndex(df['Week']).weekofyear\n"
     ]
    }
   ],
   "source": [
    "# Cleaning\n",
    "df = pd.read_csv(\"dataset/Advertising.csv\", low_memory = False, usecols = lambda c: not c.startswith(\"Unnamed:\"), parse_dates = ['Week'])\n",
    "df['Year'] = pd.DatetimeIndex(df['Week']).year\n",
    "df['Month'] = pd.DatetimeIndex(df['Week']).month\n",
    "df['Num_Week'] = pd.DatetimeIndex(df['Week']).weekofyear\n",
    "df[\"BuyingBasis\"].replace('instance', 'Instance', inplace = True)\n",
    "# filling null values for engagement and impressions\n",
    "df['Engagement'] = df['Engagement'].fillna(0)\n",
    "df['Impressions'] = df['Impressions'].fillna(0)\n",
    "\n",
    "\n",
    "print(df.isnull().sum())\n",
    "\n",
    "# num_week gives warning but im not sure what it means yet to be honest"
   ]
  },
  {
   "cell_type": "code",
   "execution_count": 226,
   "id": "4c094734",
   "metadata": {},
   "outputs": [
    {
     "name": "stdout",
     "output_type": "stream",
     "text": [
      "    Clicks         Cost               Treatment\n",
      "19      94     0.000000                 Bespoke\n",
      "18     209     0.000000                 Bespoke\n",
      "24     228   286.130590       Newsletter banner\n",
      "70      49   300.179520         Newsletter text\n",
      "69      96   300.179520         Newsletter text\n",
      "27     454   312.579656  Newsletter advertorial\n",
      "23     211   313.186171             Advertorial\n",
      "43      43   345.714674             Advertorial\n",
      "42      27   345.714674             Advertorial\n",
      "35      31   381.420822       Newsletter banner\n",
      "34       2   381.420822       Newsletter banner\n",
      "33      36   381.420822       Newsletter banner\n",
      "32       3   381.420822       Newsletter banner\n",
      "54      68   609.739650       Newsletter banner\n",
      "63     284   609.739650       Newsletter banner\n",
      "80     288   613.908810       Newsletter banner\n",
      "81    1217   613.908810         Newsletter text\n",
      "78     283   625.374000         Newsletter text\n",
      "4      249   625.374000       Newsletter banner\n",
      "5      139   625.374000       Newsletter banner\n",
      "6      238   625.374000       Newsletter banner\n",
      "7     1373   625.374000         Newsletter text\n",
      "8      175   625.374000         Newsletter text\n",
      "9      554   625.374000         Newsletter text\n",
      "10      67   695.207430                 Bespoke\n",
      "12      71   695.207430                 Bespoke\n",
      "11      50   695.207430                 Bespoke\n",
      "21       5   740.025900       Newsletter banner\n",
      "22       3   740.025900       Newsletter banner\n",
      "67      30   812.986200         Newsletter text\n",
      "68      80   812.986200         Newsletter text\n",
      "49       4   900.694929       Newsletter banner\n",
      "50       9   900.694929       Newsletter banner\n",
      "48       1   900.747031             Advertorial\n",
      "47      26   900.747031             Advertorial\n",
      "58     203  1042.290000                 Bespoke\n",
      "53      13  1042.290000         Newsletter text\n",
      "59      28  1042.290000         Newsletter text\n",
      "62       4  1042.290000         Newsletter text\n",
      "30     191  1244.046019       Newsletter banner\n",
      "37     398  1244.046019       Newsletter banner\n",
      "38     301  1244.046019       Newsletter banner\n",
      "29     348  1244.046019       Newsletter banner\n",
      "20     359  1245.536550       Newsletter banner\n",
      "28     340  1247.829537       Newsletter banner\n",
      "26      36  1317.225287       Newsletter banner\n",
      "55      21  1321.102575         Newsletter text\n",
      "64     203  1321.102575         Newsletter text\n",
      "51      20  1354.977000         Newsletter text\n",
      "0       42  1526.954850                 Bespoke\n",
      "65      86  1563.435000                 Bespoke\n",
      "66      30  1563.435000                 Bespoke\n",
      "1      148  1620.760950                 Bespoke\n",
      "77     338  1771.893000                 Bespoke\n",
      "16      47  1839.641850                 Bespoke\n",
      "2      125  1907.390700  Newsletter advertorial\n",
      "14      55  1907.390700                 Bespoke\n",
      "13     430  1980.351000                 Bespoke\n",
      "15     296  2418.112800                 Bespoke\n",
      "17     280  2418.112800                 Bespoke\n",
      "36     211  2591.132940                 Bespoke\n",
      "75      72  2595.302100         Newsletter text\n",
      "73      93  2595.302100         Newsletter text\n",
      "46      88  2841.386871  Newsletter Advertorial\n",
      "45      63  2841.386871  Newsletter Advertorial\n",
      "39       4  2841.386871  Newsletter Advertorial\n",
      "44      46  2841.386871  Newsletter Advertorial\n",
      "41      55  2841.386871  Newsletter Advertorial\n",
      "40      91  2841.386871  Newsletter Advertorial\n",
      "57      30  3178.984500                 Bespoke\n",
      "71     624  3452.064480                 Bespoke\n",
      "72     278  3452.064480                 Bespoke\n",
      "79    1679  3679.283700                 Bespoke\n",
      "3      788  3752.244000                 Bespoke\n",
      "25     704  4077.125742                 Bespoke\n",
      "31     704  4168.346983                 Bespoke\n",
      "56     243  4216.063050                 Bespoke\n",
      "61     276  4216.063050                 Bespoke\n",
      "74     355  4216.063050                 Bespoke\n",
      "76     537  4216.063050                 Bespoke\n",
      "60    1418  4216.063050                 Bespoke\n",
      "52      14  4784.111100                 Bespoke\n"
     ]
    },
    {
     "data": {
      "image/png": "[encoded data removed]",
      "text/plain": [
       "<Figure size 432x288 with 1 Axes>"
      ]
     },
     "metadata": {
      "needs_background": "light"
     },
     "output_type": "display_data"
    }
   ],
   "source": [
    "df_country = df.loc[(df['CountryName'] == 'Italy') & (df['AdType'] == \"Email\")].reset_index(drop = True)\n",
    "\n",
    "sns.regplot(x = df_country['Cost'], y = df_country[\"Clicks\"])\n",
    "#plt.show()\n",
    "\n",
    "print(df_country[['Clicks', 'Cost', 'Treatment']].sort_values(by = ['Cost']))"
   ]
  },
  {
   "cell_type": "code",
   "execution_count": null,
   "id": "1051551e",
   "metadata": {},
   "outputs": [],
   "source": []
  }
 ],
 "metadata": {
  "kernelspec": {
   "display_name": "Python 3 (ipykernel)",
   "language": "python",
   "name": "python3"
  },
  "language_info": {
   "codemirror_mode": {
    "name": "ipython",
    "version": 3
   },
   "file_extension": ".py",
   "mimetype": "text/x-python",
   "name": "python",
   "nbconvert_exporter": "python",
   "pygments_lexer": "ipython3",
   "version": "3.8.10"
  }
 },
 "nbformat": 4,
 "nbformat_minor": 5
}
